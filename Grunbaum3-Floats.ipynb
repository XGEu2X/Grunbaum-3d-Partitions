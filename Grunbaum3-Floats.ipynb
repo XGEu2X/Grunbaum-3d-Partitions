{
 "cells": [
  {
   "cell_type": "markdown",
   "id": "3e339c33-a246-4810-bee1-574111ab7d55",
   "metadata": {},
   "source": [
    "# Finding orthogonal equipartitions for sets in space with $8n$ points\n",
    "\n",
    "Using floating point precision"
   ]
  },
  {
   "cell_type": "markdown",
   "id": "11bfba15-a22e-4b74-8044-43abd586c077",
   "metadata": {},
   "source": [
    "## Code"
   ]
  },
  {
   "cell_type": "code",
   "execution_count": 1,
   "id": "e247f790-ce78-4a9c-9908-ff2fe920c96e",
   "metadata": {},
   "outputs": [],
   "source": [
    "import random\n",
    "import itertools as it\n",
    "from tqdm import tqdm\n",
    "import math\n",
    "\n",
    "class Vector:\n",
    "    def __init__(self, x, y, z):\n",
    "        self.x = x\n",
    "        self.y = y\n",
    "        self.z = z\n",
    "\n",
    "    def __add__(self, other):\n",
    "        if isinstance(other, Vector):\n",
    "            # Add the corresponding components of the two vectors\n",
    "            result_x = self.x + other.x\n",
    "            result_y = self.y + other.y\n",
    "            result_z = self.z + other.z\n",
    "            return Vector(result_x, result_y, result_z)\n",
    "        else:\n",
    "            raise ValueError(\"Can only add two Vector objects together\")\n",
    "\n",
    "    def __sub__(self, other):\n",
    "        if isinstance(other, Vector):\n",
    "            # Subtract the corresponding components of the two vectors\n",
    "            result_x = self.x - other.x\n",
    "            result_y = self.y - other.y\n",
    "            result_z = self.z - other.z\n",
    "            return Vector(result_x, result_y, result_z)\n",
    "        else:\n",
    "            raise ValueError(\"Can only subtract two Vector objects\")\n",
    "\n",
    "    def __mul__(self, scalar):\n",
    "        # Multiply the vector by a scalar\n",
    "        result_x = self.x * scalar\n",
    "        result_y = self.y * scalar\n",
    "        result_z = self.z * scalar\n",
    "        return Vector(result_x, result_y, result_z)\n",
    "\n",
    "    def cross(self, other):\n",
    "        # Compute the cross product of two vectors\n",
    "        result_x = self.y * other.z - self.z * other.y\n",
    "        result_y = self.z * other.x - self.x * other.z\n",
    "        result_z = self.x * other.y - self.y * other.x\n",
    "        return Vector(result_x, result_y, result_z)\n",
    "\n",
    "    def dot(self, other):\n",
    "        # Compute the dot product of two vectors\n",
    "        return self.x * other.x + self.y * other.y + self.z * other.z\n",
    "    \n",
    "    def norm2(self):\n",
    "        return self.x * self.x + self.y * self.y + self.z * self.z\n",
    "    \n",
    "    def norm(self):\n",
    "        return math.sqrt(self.norm2())\n",
    "\n",
    "    def __str__(self):\n",
    "        return f\"({self.x}, {self.y}, {self.z})\"\n",
    "\n",
    "def points_to_vectors(L):\n",
    "    \"\"\"\n",
    "    Converts a list of triples to a list of vectors\n",
    "    \"\"\"\n",
    "    return [Vector(x,y,z) for x,y,z in L]\n",
    "\n",
    "def generate_random_vectors(num_points=8, min_coord=-10, max_coord=10):\n",
    "    \"\"\"\n",
    "    Generates a list of random 3D vectors\n",
    "    \"\"\"\n",
    "    points = []\n",
    "    for _ in range(num_points):\n",
    "        x = random.uniform(min_coord, max_coord)\n",
    "        y = random.uniform(min_coord, max_coord)\n",
    "        z = random.uniform(min_coord, max_coord)\n",
    "        points.append(Vector(x, y, z))\n",
    "    return points\n",
    "\n",
    "def split_by_point_normal(point, normal, vectors, tol=1e-9):\n",
    "    \"\"\"\n",
    "    Partitions vectors by the plane normal to normal through point.\n",
    "    It should be at least sqrt(tol) away from the plane to be counted.\n",
    "    Returns two lists of indices.\n",
    "    \"\"\"\n",
    "    nn2 = normal.norm2()\n",
    "    assert nn2>tol, f\"Tolerance error norm of {normal} smaller than {tol}\"\n",
    "    Positive = []\n",
    "    Zero = []\n",
    "    Negative = []\n",
    "    for i,v in enumerate(vectors):\n",
    "        ndv = normal.dot(v) - normal.dot(point)\n",
    "        if ndv*ndv <= tol*nn2:\n",
    "            Zero.append(i)\n",
    "        elif ndv > 0:\n",
    "            Positive.append(i)\n",
    "        else:\n",
    "            Negative.append(i)\n",
    "    return Negative, Zero, Positive\n",
    "\n",
    "def make_choices(N,Z,P):\n",
    "    \"\"\"\n",
    "    Takes elments from Z and adds them to N and P so that they have the same size\n",
    "    \"\"\"\n",
    "    assert (len(P)+len(Z)+len(N))%2==0, \"Need an even number of total elements.\"\n",
    "    if len(N)+len(Z)<len(P) or len(P)+len(Z)<len(N): #Not possible to distribute evenly\n",
    "        return\n",
    "    num_negs = (len(P)+len(Z)-len(N))//2 #How many should be added to N\n",
    "    for new_negs in it.combinations(Z,num_negs):\n",
    "        newN=N.copy()\n",
    "        newP=P.copy()\n",
    "        for i in Z:\n",
    "            if i in new_negs:\n",
    "                newN.append(i)\n",
    "            else:\n",
    "                newP.append(i)\n",
    "        yield newN,newP\n",
    "        \n",
    "def print_vectors(vectors,as_list=False):\n",
    "    \"\"\"\n",
    "    Prints a list of vectors in a readable form, if as_list==True it prints them as a python list\n",
    "    \"\"\"\n",
    "    if as_list:\n",
    "        res='['\n",
    "        for v in vectors:\n",
    "            res += f'{v}, '\n",
    "        print(res[:-2]+']')\n",
    "    else:\n",
    "        for i,v in enumerate(vectors):\n",
    "            print(f'{i}: {v}')\n",
    "\n",
    "def print_partition(partition):\n",
    "    \"\"\"\n",
    "    Prints a partition in a readable form\n",
    "    \"\"\"\n",
    "    for N,P,x,n,Z in partition:\n",
    "        print(f'Plane defined by {Z},')\n",
    "        print(f'orthogonal to {n} through {x} separates')\n",
    "        print(f'{N} and {P}')\n",
    "\n",
    "def find_321_partition(vectors,tol=1e-9,stop_at_first=True):\n",
    "    \"\"\"\n",
    "    Finds a partition of type 3,2,1\n",
    "    \"\"\"\n",
    "    Equipartitions = []\n",
    "    for a,b,c in it.combinations(vectors, 3):\n",
    "        normal1 = (b-a).cross(c-a)\n",
    "        N1,Z1,P1 = split_by_point_normal(a,normal1,vectors,tol=tol)\n",
    "        assert len(Z1)==3, f\"Points not in general possition: {Z1}\"\n",
    "        for newN1,newP1 in make_choices(N1,Z1,P1):\n",
    "            #newP1 and newN1 have the same size\n",
    "            for d,e in it.combinations(vectors, 2):\n",
    "                normal2 = normal1.cross(e-d)\n",
    "                N2,Z2,P2 = split_by_point_normal(d,normal2, vectors,tol=tol)\n",
    "                assert len(Z2)==2, f\"Points not in general possition: {Z1}, {Z2}\"\n",
    "                for newN2,newP2 in make_choices(N2,Z2,P2):\n",
    "                    #newP2 and newN2 have the same size\n",
    "                    #Check if they split into 4 equal parts\n",
    "                    cuadrant1 = {v for v in newN1 if v in newN2}\n",
    "                    if len(cuadrant1)!=len(vectors)//4:\n",
    "                        continue\n",
    "                    cuadrant2 = {v for v in newN1 if v not in newN2}\n",
    "                    cuadrant3 = {v for v in newP1 if v in newN2}\n",
    "                    normal3 = normal1.cross(normal2)\n",
    "                    for f in vectors:\n",
    "                        N3,Z3,P3 = split_by_point_normal(f,normal3, vectors,tol=tol)\n",
    "                        assert len(Z3)==1, f\"Points not in general possition: {Z1}, {Z2}, {Z3}\"\n",
    "                        for newN3,newP3 in make_choices(N3,Z3,P3):\n",
    "                            #Check if they split into 8 equal parts\n",
    "                            if len(cuadrant1.intersection(newN3))!=len(vectors)//8 or len(cuadrant2.intersection(newN3))!=len(vectors)//8 or len(cuadrant3.intersection(newN3))!=len(vectors)//8:\n",
    "                                continue\n",
    "                            p = ((newN1,newP1,a,normal1,Z1),(newN2,newP2,d,normal2,Z2),(newN3,newP3,f,normal3,Z3))\n",
    "                            Equipartitions.append(p)\n",
    "                            if stop_at_first:\n",
    "                                return Equipartitions\n",
    "    return Equipartitions\n",
    "\n",
    "def compute_normals(u1,u2,u3):\n",
    "    \"\"\"\n",
    "    For partitions of type 2,2,2, given vectors u1,u2,u3 searches for orthogonal vectors v1,v2,v3 satisfying that vi is ortogonal to ui\n",
    "    Returns 0 if none is found\n",
    "    \"\"\"\n",
    "    v11=u1.cross(Vector(1,0,0));v12=u1.cross(Vector(0,1,0));\n",
    "    v21=u2.cross(Vector(1,0,0));v22=u2.cross(Vector(0,1,0));\n",
    "    v31=u3.cross(Vector(1,0,0));v32=u3.cross(Vector(0,1,0));\n",
    "    a1 = v21.dot(v31); b1 = v21.dot(v32); c1 = v22.dot(v31); d1 = v22.dot(v32)\n",
    "    a2 = v31.dot(v11); b2 = v31.dot(v12); c2 = v32.dot(v11); d2 = v32.dot(v12)\n",
    "    a3 = v11.dot(v21); b3 = v11.dot(v22); c3 = v12.dot(v21); d3 = v12.dot(v22)\n",
    "    \n",
    "    disc = (b1*b2*b3 + c1*c2*c3 - a3*b2*d1 - a2*c3*d1 - a1*b3*d2 + a3*c1*d2 + a2*b1*d3 - a1*c2*d3)**2 - 4*(a2*b1*b3 - a1*b3*c2 + a3*c1*c2 - a2*a3*d1)*(-(b2*c3*d1) + c1*c3*d2 + b1*b2*d3 - a1*d2*d3)\n",
    "    if disc < 0:\n",
    "        return 0,0,0\n",
    "    root = math.sqrt(disc)\n",
    "    den1 = 2*(a2*b1*b3 - a1*b3*c2 + a3*c1*c2 - a2*a3*d1)\n",
    "    den2 = 2*(a3*b2*b1 - a2*b1*c3 + a1*c2*c3 - a3*a1*d2)\n",
    "    den3 = 2*(a1*b3*b2 - a3*b2*c1 + a2*c3*c1 - a1*a2*d3)\n",
    "    assert abs(den1)>1e-9 and abs(den2)>1e-9 and abs(den3)>1e-9, f\"Not in general position {den1,den2,den3}\"\n",
    "    \n",
    "    x1 = (-(b1*b2*b3) - c1*c2*c3 + a3*b2*d1 + a2*c3*d1 + a1*b3*d2 - a3*c1*d2 - a2*b1*d3 + a1*c2*d3 + root)/den1\n",
    "    x2 = (-(b1*b2*b3) - c1*c2*c3 - a3*b2*d1 + a2*c3*d1 + a1*b3*d2 + a3*c1*d2 + a2*b1*d3 - a1*c2*d3 + root)/den2\n",
    "    x3 = (-(b1*b2*b3) - c1*c2*c3 + a3*b2*d1 - a2*c3*d1 - a1*b3*d2 + a3*c1*d2 + a2*b1*d3 + a1*c2*d3 + root)/den3\n",
    "\n",
    "    return v11*x1 + v12, v21*x2 + v22, v31*x3 + v32\n",
    "\n",
    "def find_222_partition(vectors,tol=1e-9,stop_at_first=True):\n",
    "    \"\"\"\n",
    "    Finds a partition of type 2,2,2\n",
    "    \"\"\"\n",
    "    Equipartitions = []\n",
    "    for (a1,b1),(a2,b2),(a3,b3) in it.combinations(it.combinations(vectors, 2),3):\n",
    "        normal1,normal2,normal3 = compute_normals(b1-a1,b2-a2,b3-a3)\n",
    "        if normal1 == 0:\n",
    "            #No partition exists\n",
    "            continue\n",
    "        N1,Z1,P1 = split_by_point_normal(a1,normal1,vectors,tol=tol)\n",
    "        N2,Z2,P2 = split_by_point_normal(a2,normal2,vectors,tol=tol)\n",
    "        N3,Z3,P3 = split_by_point_normal(a3,normal3,vectors,tol=tol)\n",
    "        assert len(Z1)==2 and len(Z2)==2 and len(Z3)==2, f\"Points not in general possition: {Z1}, {Z2}, {Z3}\"\n",
    "        for newN1,newP1 in make_choices(N1,Z1,P1):\n",
    "            for newN2,newP2 in make_choices(N2,Z2,P2):\n",
    "                #Check if they split into 4 equal parts\n",
    "                cuadrant1 = {v for v in newN1 if v in newN2}\n",
    "                if len(cuadrant1)!=len(vectors)//4:\n",
    "                    continue\n",
    "                cuadrant2 = {v for v in newN1 if v not in newN2}\n",
    "                cuadrant3 = {v for v in newP1 if v in newN2}\n",
    "                for newN3,newP3 in make_choices(N3,Z3,P3):\n",
    "                    #Check if they split into 8 equal parts\n",
    "                    if len(cuadrant1.intersection(newN3))!=len(vectors)//8 or len(cuadrant2.intersection(newN3))!=len(vectors)//8 or len(cuadrant3.intersection(newN3))!=len(vectors)//8:\n",
    "                        continue\n",
    "                    p = ((newN1,newP1,a,normal1,Z1),(newN2,newP2,d,normal2,Z2),(newN3,newP3,f,normal3,Z3))\n",
    "                    Equipartitions.append(p)\n",
    "                    if stop_at_first:\n",
    "                        return Equipartitions\n",
    "    return Equipartitions\n",
    "\n",
    "def find_partition(vectors,tol1=1e-9,tol2=1e-9,stop_at_first=True):\n",
    "    \"\"\"\n",
    "    Searches for an orthogonal equipartition \n",
    "    \"\"\"\n",
    "    Equipartitions = find_321_partition(vectors,tol=tol1,stop_at_first=stop_at_first)\n",
    "    if len(Equipartitions)>0 and stop_at_first:\n",
    "        return Equipartitions\n",
    "    Equipartitions += find_222_partition(vectors,tol=tol2,stop_at_first=stop_at_first)\n",
    "    return Equipartitions"
   ]
  },
  {
   "cell_type": "markdown",
   "id": "783c10d3-4239-46a8-8b63-4a6b957ce1be",
   "metadata": {},
   "source": [
    "## Random examples\n",
    "\n",
    "Looks for orthogonal equipartitions in sets of either $8$ or $16$ random points chosen uniformly and independently in a cube. Saves and counts the examples without equipartitions.\n",
    "\n",
    "Fails the general position check if it finds a point too close to one of the planes it considers."
   ]
  },
  {
   "cell_type": "markdown",
   "id": "d6b2363c-f2f8-4df8-a7df-d953a13bb8fd",
   "metadata": {},
   "source": [
    "### Searching for sets of 8 points with no orthogonal equipartitions."
   ]
  },
  {
   "cell_type": "code",
   "execution_count": 2,
   "id": "6723df38-f558-4589-8dce-e912bb14d1e8",
   "metadata": {
    "tags": []
   },
   "outputs": [
    {
     "name": "stderr",
     "output_type": "stream",
     "text": [
      "100%|██████████████████████████████████████████████████████████████████████████| 500000/500000 [15:33<00:00, 535.69it/s]"
     ]
    },
    {
     "name": "stdout",
     "output_type": "stream",
     "text": [
      "Sets found in general position: 499911\n",
      "Sets without equipartition:     402\n",
      "Proportion:                     0.0008041431374784712\n"
     ]
    },
    {
     "name": "stderr",
     "output_type": "stream",
     "text": [
      "\n"
     ]
    }
   ],
   "source": [
    "num_points=8\n",
    "N=500000\n",
    "\n",
    "NumExamples = 0\n",
    "ExamplesNoEquipart8 = []\n",
    "for TotalTries in tqdm(range(N)):\n",
    "    vectors = generate_random_vectors(num_points=num_points, min_coord=-100, max_coord=100)\n",
    "    try:\n",
    "        partition = find_partition(vectors)\n",
    "        NumExamples += 1\n",
    "        if len(partition)==0:\n",
    "            ExamplesNoEquipart8.append(vectors)\n",
    "    except Exception as error:\n",
    "        #If they are not in general position\n",
    "        continue\n",
    "print(\"Sets found in general position:\",NumExamples)\n",
    "print(\"Sets without equipartition:    \",len(ExamplesNoEquipart8))\n",
    "print(\"Proportion:                    \",1.*len(ExamplesNoEquipart8)/NumExamples)\n",
    "#for vectors in ExamplesNoEquipart8:\n",
    "#    print_vectors(vectors,as_list=True)"
   ]
  },
  {
   "cell_type": "code",
   "execution_count": 3,
   "id": "4aa26704-37b0-4101-a75a-31ef92a8ae67",
   "metadata": {},
   "outputs": [
    {
     "name": "stdout",
     "output_type": "stream",
     "text": [
      "0: (55.46946726181682, 25.57598027846204, -58.73523402768404)\n",
      "1: (65.48966104149792, 25.418304977811104, -67.7252434235309)\n",
      "2: (-74.5016451085487, -84.87038437110206, -4.07304515039138)\n",
      "3: (-68.95394587702081, -87.9571899662107, -12.275451664888479)\n",
      "4: (38.96637529013654, 93.88248051968779, -0.21116164930243997)\n",
      "5: (-50.98829002506695, 4.812134923869138, 95.94209805517926)\n",
      "6: (-71.27019295927417, -72.43981136858471, 78.92049637333852)\n",
      "7: (73.19607180054956, -17.142008351942778, -53.68290221876588)\n"
     ]
    }
   ],
   "source": [
    "print_vectors(ExamplesNoEquipart8[0])"
   ]
  },
  {
   "cell_type": "markdown",
   "id": "dd6710a5-5c45-47f5-85bf-20d9ae7d02df",
   "metadata": {
    "tags": []
   },
   "source": [
    "### Searching for sets of 16 points with no orthogonal equipartitions."
   ]
  },
  {
   "cell_type": "code",
   "execution_count": 4,
   "id": "a16d6085-b13c-4459-a06c-d5993e3c5702",
   "metadata": {
    "tags": []
   },
   "outputs": [
    {
     "name": "stderr",
     "output_type": "stream",
     "text": [
      "100%|█████████████████████████████████████████████████████████████████████████████| 30000/30000 [20:50<00:00, 23.99it/s]"
     ]
    },
    {
     "name": "stdout",
     "output_type": "stream",
     "text": [
      "Sets found in general position: 29892\n",
      "Sets without equipartition:     5\n",
      "Proportion:                     0.0001672688344707614\n"
     ]
    },
    {
     "name": "stderr",
     "output_type": "stream",
     "text": [
      "\n"
     ]
    }
   ],
   "source": [
    "num_points=16\n",
    "N=30000\n",
    "\n",
    "NumExamples = 0\n",
    "ExamplesNoEquipart16 = []\n",
    "for TotalTries in tqdm(range(N)):\n",
    "    vectors = generate_random_vectors(num_points=num_points, min_coord=-100, max_coord=100)\n",
    "    try:\n",
    "        partition = find_partition(vectors)\n",
    "        NumExamples += 1\n",
    "        if len(partition)==0:\n",
    "            ExamplesNoEquipart16.append(vectors)\n",
    "    except Exception as error:\n",
    "        #If they are not in general position\n",
    "        continue\n",
    "print(\"Sets found in general position:\",NumExamples)\n",
    "print(\"Sets without equipartition:    \",len(ExamplesNoEquipart16))\n",
    "print(\"Proportion:                    \",1.*len(ExamplesNoEquipart16)/NumExamples)\n",
    "#for vectors in ExamplesNoEquipart16:\n",
    "#    print_vectors(vectors,as_list=True)"
   ]
  },
  {
   "cell_type": "code",
   "execution_count": 5,
   "id": "5a45b7e8-0063-4ff3-85bb-d65c9ef448f0",
   "metadata": {},
   "outputs": [
    {
     "name": "stdout",
     "output_type": "stream",
     "text": [
      "0: (-7.425134641295799, 36.39972567447961, -28.506215802426425)\n",
      "1: (83.76951219490357, 85.86840723888287, -65.97373317388352)\n",
      "2: (47.37791802192646, -61.3561166751174, 45.18265234176454)\n",
      "3: (-1.8875486535553136, -81.35650883319613, 22.69299766633243)\n",
      "4: (66.00963628606925, 65.28565377744519, -2.987025402831378)\n",
      "5: (-27.671354586819035, -84.79860036803598, 82.7592528269125)\n",
      "6: (-71.15852175313421, 38.876540520526646, -56.29932625995835)\n",
      "7: (-36.877488276629045, -34.62569608613772, 47.33286339054246)\n",
      "8: (-13.79899255570838, 85.8072576497562, -17.939373984312198)\n",
      "9: (17.599024374162298, 59.69333521822358, -29.32901129993506)\n",
      "10: (40.847284838201915, 97.38315317981579, -92.62258126616858)\n",
      "11: (-12.853161884639803, -97.97179002531982, 95.72028378795699)\n",
      "12: (-23.83958868278171, -27.033357811386892, 43.68584233008525)\n",
      "13: (-81.68733036274497, 44.891532896535324, 43.57908278064605)\n",
      "14: (54.95841939841074, 54.35930701727577, 17.738422466271146)\n",
      "15: (-16.052203597721387, 26.635090281625168, 93.8326608306937)\n"
     ]
    }
   ],
   "source": [
    "print_vectors(ExamplesNoEquipart16[0])"
   ]
  },
  {
   "cell_type": "code",
   "execution_count": null,
   "id": "1f515210-b31e-4268-abed-278b0ea7245c",
   "metadata": {},
   "outputs": [],
   "source": []
  }
 ],
 "metadata": {
  "kernelspec": {
   "display_name": "Python 3 (ipykernel)",
   "language": "python",
   "name": "python3"
  },
  "language_info": {
   "codemirror_mode": {
    "name": "ipython",
    "version": 3
   },
   "file_extension": ".py",
   "mimetype": "text/x-python",
   "name": "python",
   "nbconvert_exporter": "python",
   "pygments_lexer": "ipython3",
   "version": "3.9.13"
  }
 },
 "nbformat": 4,
 "nbformat_minor": 5
}
