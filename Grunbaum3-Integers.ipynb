{
 "cells": [
  {
   "cell_type": "markdown",
   "id": "237db506-71d3-418d-862a-dd1ae3f134bd",
   "metadata": {},
   "source": [
    "# Finding orthogonal equipartitions for sets in space with $8n$ points\n",
    "\n",
    "Using integer precision in SageMath 9.5"
   ]
  },
  {
   "cell_type": "markdown",
   "id": "10cb2c17-78fd-4036-bed5-3cca559f7fc3",
   "metadata": {},
   "source": [
    "## Code"
   ]
  },
  {
   "cell_type": "code",
   "execution_count": 1,
   "id": "e247f790-ce78-4a9c-9908-ff2fe920c96e",
   "metadata": {},
   "outputs": [],
   "source": [
    "import random\n",
    "import itertools as it\n",
    "from tqdm import tqdm\n",
    "\n",
    "class Vector:\n",
    "    def __init__(self, x, y, z):\n",
    "        self.x = x\n",
    "        self.y = y\n",
    "        self.z = z\n",
    "\n",
    "    def __add__(self, other):\n",
    "        if isinstance(other, Vector):\n",
    "            result_x = self.x + other.x\n",
    "            result_y = self.y + other.y\n",
    "            result_z = self.z + other.z\n",
    "            return Vector(result_x, result_y, result_z)\n",
    "        else:\n",
    "            raise ValueError(\"Can only add two Vector objects together\")\n",
    "\n",
    "    def __sub__(self, other):\n",
    "        if isinstance(other, Vector):\n",
    "            result_x = self.x - other.x\n",
    "            result_y = self.y - other.y\n",
    "            result_z = self.z - other.z\n",
    "            return Vector(result_x, result_y, result_z)\n",
    "        else:\n",
    "            raise ValueError(\"Can only subtract two Vector objects\")\n",
    "\n",
    "    def __mul__(self, scalar):\n",
    "        result_x = self.x * scalar\n",
    "        result_y = self.y * scalar\n",
    "        result_z = self.z * scalar\n",
    "        return Vector(result_x, result_y, result_z)\n",
    "\n",
    "    def cross(self, other):\n",
    "        result_x = self.y * other.z - self.z * other.y\n",
    "        result_y = self.z * other.x - self.x * other.z\n",
    "        result_z = self.x * other.y - self.y * other.x\n",
    "        return Vector(result_x, result_y, result_z)\n",
    "\n",
    "    def dot(self, other):\n",
    "        return self.x * other.x + self.y * other.y + self.z * other.z\n",
    "    \n",
    "    def norm2(self):\n",
    "        return self.x * self.x + self.y * self.y + self.z * self.z\n",
    "    \n",
    "    def norm(self):\n",
    "        return sqrt(self.norm2())\n",
    "    \n",
    "    def reduce(self):\n",
    "        d = gcd(gcd(self.x,self.y),self.z)\n",
    "        self.x,self.y,self.z = self.x/d,self.y/d,self.z/d\n",
    "\n",
    "    def __str__(self):\n",
    "        return f\"({self.x}, {self.y}, {self.z})\"\n",
    "\n",
    "def points_to_vectors(L):\n",
    "    \"\"\"\n",
    "    Converts a list of triples to a list of vectors\n",
    "    \"\"\"\n",
    "    return [Vector(x,y,z) for x,y,z in L]\n",
    "    \n",
    "def generate_random_vectors(num_points=8, min_coord=-10, max_coord=10):\n",
    "    \"\"\"\n",
    "    Generates a list of random 3D vectors\n",
    "    \"\"\"\n",
    "    points = []\n",
    "    for _ in range(num_points):\n",
    "        x = random.randint(min_coord, max_coord)\n",
    "        y = random.randint(min_coord, max_coord)\n",
    "        z = random.randint(min_coord, max_coord)\n",
    "        points.append(Vector(x, y, z))\n",
    "    return points\n",
    "\n",
    "def general_pos(vectors):\n",
    "    \"\"\"\n",
    "    Checks if a set of vectors is in general position\n",
    "    If not, prints indices of points defining planes\n",
    "    \"\"\"\n",
    "    for a,b,c in it.combinations(vectors, 3):\n",
    "        normal1 = (b-a).cross(c-a)\n",
    "        normal1.reduce()\n",
    "        N1,Z1,P1 = split_by_point_normal(a,normal1,vectors)\n",
    "        if len(Z1)!=3:\n",
    "            print(Z1)\n",
    "            return False\n",
    "        for d,e in it.combinations(vectors, 2):\n",
    "            normal2 = normal1.cross(e-d)\n",
    "            normal2.reduce()\n",
    "            N2,Z2,P2 = split_by_point_normal(d,normal2, vectors)\n",
    "            if len(Z2)!=2:\n",
    "                print(Z1,Z2)\n",
    "                return False\n",
    "            normal3 = normal1.cross(normal2)\n",
    "            normal3.reduce()\n",
    "            for f in vectors:\n",
    "                N3,Z3,P3 = split_by_point_normal(f,normal3, vectors)\n",
    "                if len(Z3)!=1:\n",
    "                    print(Z1,Z2,Z3)\n",
    "                    return False\n",
    "    return True\n",
    "\n",
    "def split_by_point_normal(point, normal, vectors):\n",
    "    \"\"\"\n",
    "    Partitions vectors by the plane normal to normal through point\n",
    "    Returns two lists of indices\n",
    "    \"\"\"\n",
    "    nn2 = normal.norm2()\n",
    "    assert nn2>0, f\"Norm 0\"\n",
    "    Positive = []\n",
    "    Zero = []\n",
    "    Negative = []\n",
    "    for i,v in enumerate(vectors):\n",
    "        ndv = normal.dot(v) - normal.dot(point)\n",
    "        if ndv*ndv == 0:\n",
    "            Zero.append(i)\n",
    "        elif ndv > 0:\n",
    "            Positive.append(i)\n",
    "        else:\n",
    "            Negative.append(i)\n",
    "    return Negative, Zero, Positive\n",
    "\n",
    "def make_choices(N,Z,P):\n",
    "    \"\"\"\n",
    "    Takes elments from Z and adds them to N and P so that they have the same size\n",
    "    \"\"\"\n",
    "    assert (len(P)+len(Z)+len(N))%2==0, \"Need an even number of total elements\"\n",
    "    if len(N)+len(Z)<len(P) or len(P)+len(Z)<len(N): #Not possible to distribute evenly\n",
    "        return\n",
    "    num_negs = (len(P)+len(Z)-len(N))//2 #Number of points that should be added to N\n",
    "    for new_negs in it.combinations(Z,num_negs):\n",
    "        newN=N.copy()\n",
    "        newP=P.copy()\n",
    "        for i in Z:\n",
    "            if i in new_negs:\n",
    "                newN.append(i)\n",
    "            else:\n",
    "                newP.append(i)\n",
    "        yield newN,newP\n",
    "        \n",
    "def print_vectors(vectors,as_list=False):\n",
    "    \"\"\"\n",
    "    Prints a list of vectors in a readable form, if as_list==True it prints them as a python list\n",
    "    \"\"\"\n",
    "    if as_list:\n",
    "        res='['\n",
    "        for v in vectors:\n",
    "            res += f'{v}, '\n",
    "        print(res[:-2]+']')\n",
    "    else:\n",
    "        for i,v in enumerate(vectors):\n",
    "            print(f'{i}: {v}')\n",
    "\n",
    "def print_partition(partition):\n",
    "    \"\"\"\n",
    "    Prints a partition in a readable form\n",
    "    \"\"\"\n",
    "    for N,P,x,n,Z in partition:\n",
    "        print(f'Plane defined by {Z},')\n",
    "        print(f'orthogonal to {n} through {x} separates')\n",
    "        print(f'{N} and {P}')\n",
    "\n",
    "def find_321_partition(vectors,stop_at_first=True):\n",
    "    \"\"\"\n",
    "    Finds a partition of type 3,2,1\n",
    "    \"\"\"\n",
    "    Equipartitions = []\n",
    "    for a,b,c in it.combinations(vectors, 3):\n",
    "        normal1 = (b-a).cross(c-a)\n",
    "        normal1.reduce()\n",
    "        N1,Z1,P1 = split_by_point_normal(a,normal1,vectors)\n",
    "        assert len(Z1)==3, f\"Points not in general possition: {Z1}\"\n",
    "        for newN1,newP1 in make_choices(N1,Z1,P1):\n",
    "            #newP1 and newN1 have the same size\n",
    "            for d,e in it.combinations(vectors, 2):\n",
    "                normal2 = normal1.cross(e-d)\n",
    "                normal2.reduce()\n",
    "                N2,Z2,P2 = split_by_point_normal(d,normal2, vectors)\n",
    "                assert len(Z2)==2, f\"Points not in general possition: {Z1}, {Z2}\"\n",
    "                for newN2,newP2 in make_choices(N2,Z2,P2):\n",
    "                    #newP2 and newN2 have the same size\n",
    "                    #Check if they split into 4 equal parts\n",
    "                    cuadrant1 = {v for v in newN1 if v in newN2}\n",
    "                    if len(cuadrant1)!=len(vectors)//4:\n",
    "                        continue\n",
    "                    cuadrant2 = {v for v in newN1 if v not in newN2}\n",
    "                    cuadrant3 = {v for v in newP1 if v in newN2}\n",
    "                    normal3 = normal1.cross(normal2)\n",
    "                    normal3.reduce()\n",
    "                    for f in vectors:\n",
    "                        N3,Z3,P3 = split_by_point_normal(f,normal3, vectors)\n",
    "                        assert len(Z3)==1, f\"Points not in general possition: {Z1}, {Z2}, {Z3}\"\n",
    "                        for newN3,newP3 in make_choices(N3,Z3,P3):\n",
    "                            #Check if they split into 8 equal parts\n",
    "                            if len(cuadrant1.intersection(newN3))!=len(vectors)//8 or len(cuadrant2.intersection(newN3))!=len(vectors)//8 or len(cuadrant3.intersection(newN3))!=len(vectors)//8:\n",
    "                                continue\n",
    "                            p = ((newN1,newP1,a,normal1,Z1),(newN2,newP2,d,normal2,Z2),(newN3,newP3,f,normal3,Z3))\n",
    "                            Equipartitions.append(p)\n",
    "                            if stop_at_first:\n",
    "                                return Equipartitions\n",
    "    return Equipartitions\n",
    "\n",
    "def compute_normals(u1,u2,u3):\n",
    "    \"\"\"\n",
    "    For partitions of type 2,2,2, given vectors u1,u2,u3 searches for orthogonal vectors v1,v2,v3 satisfying that vi is ortogonal to ui\n",
    "    Returns 0 if none is found\n",
    "    \"\"\"\n",
    "    v11=u1.cross(Vector(1,0,0));v12=u1.cross(Vector(0,1,0));\n",
    "    v21=u2.cross(Vector(1,0,0));v22=u2.cross(Vector(0,1,0));\n",
    "    v31=u3.cross(Vector(1,0,0));v32=u3.cross(Vector(0,1,0));\n",
    "    a1 = v21.dot(v31); b1 = v21.dot(v32); c1 = v22.dot(v31); d1 = v22.dot(v32)\n",
    "    a2 = v31.dot(v11); b2 = v31.dot(v12); c2 = v32.dot(v11); d2 = v32.dot(v12)\n",
    "    a3 = v11.dot(v21); b3 = v11.dot(v22); c3 = v12.dot(v21); d3 = v12.dot(v22)\n",
    "    \n",
    "    disc = (b1*b2*b3 + c1*c2*c3 - a3*b2*d1 - a2*c3*d1 - a1*b3*d2 + a3*c1*d2 + a2*b1*d3 - a1*c2*d3)**2 - 4*(a2*b1*b3 - a1*b3*c2 + a3*c1*c2 - a2*a3*d1)*(-(b2*c3*d1) + c1*c3*d2 + b1*b2*d3 - a1*d2*d3)\n",
    "    if disc < 0:\n",
    "        return 0,0,0\n",
    "    root = sqrt(disc)\n",
    "    den1 = 2*(a2*b1*b3 - a1*b3*c2 + a3*c1*c2 - a2*a3*d1)\n",
    "    den2 = 2*(a3*b2*b1 - a2*b1*c3 + a1*c2*c3 - a3*a1*d2)\n",
    "    den3 = 2*(a1*b3*b2 - a3*b2*c1 + a2*c3*c1 - a1*a2*d3)\n",
    "    assert den1!=0 and den2!=0 and den3!=0, f\"Not in general position {den1,den2,den3}\"\n",
    "    \n",
    "    x1 = (-(b1*b2*b3) - c1*c2*c3 + a3*b2*d1 + a2*c3*d1 + a1*b3*d2 - a3*c1*d2 - a2*b1*d3 + a1*c2*d3 + root)/den1\n",
    "    x2 = (-(b1*b2*b3) - c1*c2*c3 - a3*b2*d1 + a2*c3*d1 + a1*b3*d2 + a3*c1*d2 + a2*b1*d3 - a1*c2*d3 + root)/den2\n",
    "    x3 = (-(b1*b2*b3) - c1*c2*c3 + a3*b2*d1 - a2*c3*d1 - a1*b3*d2 + a3*c1*d2 + a2*b1*d3 + a1*c2*d3 + root)/den3\n",
    "\n",
    "    return v11*x1 + v12, v21*x2 + v22, v31*x3 + v32\n",
    "\n",
    "def find_222_partition(vectors,stop_at_first=True):\n",
    "    \"\"\"\n",
    "    Finds a partition of type 2,2,2\n",
    "    \"\"\"\n",
    "    Equipartitions = []\n",
    "    for (a1,b1),(a2,b2),(a3,b3) in it.combinations(it.combinations(vectors, 2),3):\n",
    "        normal1,normal2,normal3 = compute_normals(b1-a1,b2-a2,b3-a3)\n",
    "        if normal1 == 0:\n",
    "            #No partition exists\n",
    "            continue\n",
    "        N1,Z1,P1 = split_by_point_normal(a1,normal1,vectors)\n",
    "        N2,Z2,P2 = split_by_point_normal(a2,normal2,vectors)\n",
    "        N3,Z3,P3 = split_by_point_normal(a3,normal3,vectors)\n",
    "        assert len(Z1)==2 and len(Z2)==2 and len(Z3)==2, f\"Points not in general possition: {Z1}, {Z2}, {Z3}\"\n",
    "        for newN1,newP1 in make_choices(N1,Z1,P1):\n",
    "            for newN2,newP2 in make_choices(N2,Z2,P2):\n",
    "                #Check if they split into 4 equal parts\n",
    "                cuadrant1 = {v for v in newN1 if v in newN2}\n",
    "                if len(cuadrant1)!=len(vectors)//4:\n",
    "                    continue\n",
    "                cuadrant2 = {v for v in newN1 if v not in newN2}\n",
    "                cuadrant3 = {v for v in newP1 if v in newN2}\n",
    "                for newN3,newP3 in make_choices(N3,Z3,P3):\n",
    "                    #Check if they split into 8 equal parts\n",
    "                    if len(cuadrant1.intersection(newN3))!=len(vectors)//8 or len(cuadrant2.intersection(newN3))!=len(vectors)//8 or len(cuadrant3.intersection(newN3))!=len(vectors)//8:\n",
    "                        continue\n",
    "                    p = ((newN1,newP1,a,normal1,Z1),(newN2,newP2,d,normal2,Z2),(newN3,newP3,f,normal3,Z3))\n",
    "                    Equipartitions.append(p)\n",
    "                    if stop_at_first:\n",
    "                        return Equipartitions\n",
    "    return Equipartitions\n",
    "\n",
    "def find_partition(vectors,stop_at_first=True):\n",
    "    \"\"\"\n",
    "    Searches for an orthogonal equipartition \n",
    "    \"\"\"\n",
    "    Equipartitions = find_321_partition(vectors,stop_at_first=stop_at_first)\n",
    "    if len(Equipartitions)>0 and stop_at_first:\n",
    "        return Equipartitions\n",
    "    Equipartitions += find_222_partition(vectors,stop_at_first=stop_at_first)\n",
    "    return Equipartitions"
   ]
  },
  {
   "cell_type": "markdown",
   "id": "dd6a8e36-e561-43a7-8b0d-d73ee4561a2f",
   "metadata": {},
   "source": [
    "## Random examples\n",
    "\n",
    "Looks for orthogonal equipartitions in sets of $8$ random points chosen uniformly and independently in a cube. Saves and counts the examples without equipartitions.\n",
    "\n",
    "The general position is not checked thoroughly, only when needed. When an equipartiton is found the program continues no the next set, so not all sets where an equipartition is found are necessarily in general position."
   ]
  },
  {
   "cell_type": "code",
   "execution_count": 2,
   "id": "52e97cb9-d3c3-47c3-897a-e1d72f2de25a",
   "metadata": {
    "tags": []
   },
   "outputs": [
    {
     "name": "stderr",
     "output_type": "stream",
     "text": [
      "100%|█████████████████████████████████████████████████████████████████████████████| 10000/10000 [10:10<00:00, 16.39it/s]"
     ]
    },
    {
     "name": "stdout",
     "output_type": "stream",
     "text": [
      "Sets found in general position: 9975\n",
      "Sets without equipartition:     10\n",
      "Proportion:                     0.00100250626566416\n"
     ]
    },
    {
     "name": "stderr",
     "output_type": "stream",
     "text": [
      "\n"
     ]
    }
   ],
   "source": [
    "num_points=8\n",
    "N=10000\n",
    "\n",
    "NumExamples = 0\n",
    "ExamplesNoEquipart8 = []\n",
    "for TotalTries in tqdm(range(N)):\n",
    "    vectors = generate_random_vectors(num_points=num_points, min_coord=-100, max_coord=100)\n",
    "    try:\n",
    "        partition = find_partition(vectors)\n",
    "        NumExamples += 1\n",
    "        if len(partition)==0:\n",
    "            ExamplesNoEquipart8.append(vectors)\n",
    "    except Exception as error:\n",
    "        #If they are not in general position\n",
    "        continue\n",
    "print(\"Sets found in general position:\",NumExamples)\n",
    "print(\"Sets without equipartition:    \",len(ExamplesNoEquipart8))\n",
    "print(\"Proportion:                    \",1.*len(ExamplesNoEquipart8)/NumExamples)\n",
    "#for vectors in ExamplesNoEquipart8:\n",
    "#    print_vectors(vectors,as_list=True)"
   ]
  },
  {
   "cell_type": "code",
   "execution_count": 3,
   "id": "878b3fd5-6035-413a-9d27-05d397046c81",
   "metadata": {},
   "outputs": [
    {
     "name": "stdout",
     "output_type": "stream",
     "text": [
      "0: (-68, -84, -18)\n",
      "1: (82, -12, -4)\n",
      "2: (-81, -94, 36)\n",
      "3: (38, 37, -9)\n",
      "4: (26, 90, 8)\n",
      "5: (-67, -49, 90)\n",
      "6: (11, 73, 33)\n",
      "7: (-95, -94, 87)\n"
     ]
    }
   ],
   "source": [
    "vectors = ExamplesNoEquipart8[0]\n",
    "if not general_pos(vectors):\n",
    "    print(\"Not in general position!\")\n",
    "print_vectors(vectors)"
   ]
  },
  {
   "cell_type": "markdown",
   "id": "593a89b8-7be0-4849-b1d1-e41f8698eebc",
   "metadata": {},
   "source": [
    "## Examples in the moment curve"
   ]
  },
  {
   "cell_type": "markdown",
   "id": "51c8b130-1b8c-4685-a28e-09129872be1b",
   "metadata": {},
   "source": [
    "### Examples with no orthogonal equipartitions"
   ]
  },
  {
   "cell_type": "code",
   "execution_count": 4,
   "id": "0f2b4ea6-b911-45bd-9456-a7d562bea9ec",
   "metadata": {},
   "outputs": [
    {
     "name": "stdout",
     "output_type": "stream",
     "text": [
      "0: (0, 0, 0)\n",
      "1: (1, 1, 1)\n",
      "2: (2, 4, 8)\n",
      "3: (3, 9, 27)\n",
      "4: (4, 16, 64)\n",
      "5: (5, 25, 125)\n",
      "6: (6, 36, 216)\n",
      "7: (7, 49, 343)\n"
     ]
    },
    {
     "data": {
      "text/plain": [
       "[]"
      ]
     },
     "execution_count": 4,
     "metadata": {},
     "output_type": "execute_result"
    }
   ],
   "source": [
    "vectors = [Vector(x,x*x,x**3) for x in range(8)]\n",
    "print_vectors(vectors)\n",
    "if not general_pos(vectors):\n",
    "    print(\"Not in general position!\")\n",
    "partitions = find_partition(vectors)\n",
    "partitions"
   ]
  },
  {
   "cell_type": "code",
   "execution_count": 5,
   "id": "57bb618d-ad6a-4eb2-a460-2a315f4e1fef",
   "metadata": {},
   "outputs": [
    {
     "name": "stdout",
     "output_type": "stream",
     "text": [
      "0: (-7, 49, -343)\n",
      "1: (-5, 25, -125)\n",
      "2: (-3, 9, -27)\n",
      "3: (-1, 1, -1)\n",
      "4: (1, 1, 1)\n",
      "5: (3, 9, 27)\n",
      "6: (5, 25, 125)\n",
      "7: (7, 49, 343)\n"
     ]
    },
    {
     "data": {
      "text/plain": [
       "[]"
      ]
     },
     "execution_count": 5,
     "metadata": {},
     "output_type": "execute_result"
    }
   ],
   "source": [
    "vectors = [Vector(x,x*x,x**3) for x in range(-7,8,2)]\n",
    "print_vectors(vectors)\n",
    "if not general_pos(vectors):\n",
    "    print(\"Not in general position!\")\n",
    "partitions = find_partition(vectors)\n",
    "partitions"
   ]
  },
  {
   "cell_type": "markdown",
   "id": "0577c8cb-c285-4765-8d10-b632007f7166",
   "metadata": {},
   "source": [
    "### Examples with orthogonal equipartitions"
   ]
  },
  {
   "cell_type": "code",
   "execution_count": 6,
   "id": "c1520e93-23ce-4007-8f90-a0352375b2b8",
   "metadata": {},
   "outputs": [
    {
     "name": "stdout",
     "output_type": "stream",
     "text": [
      "0: (-4, 16, -64)\n",
      "1: (-3, 9, -27)\n",
      "2: (-2, 4, -8)\n",
      "3: (-1, 1, -1)\n",
      "4: (4, 16, 64)\n",
      "5: (5, 25, 125)\n",
      "6: (6, 36, 216)\n",
      "7: (7, 49, 343)\n",
      "Plane defined by [0, 2, 5],\n",
      "orthogonal to (-22, 1, 1) through (-4, 16, -64) separates\n",
      "[3, 4, 0, 5] and [1, 6, 7, 2]\n",
      "Plane defined by [4, 6],\n",
      "orthogonal to (66, 1673, -221) through (4, 16, 64) separates\n",
      "[2, 3, 7, 4] and [0, 1, 5, 6]\n",
      "Plane defined by [3],\n",
      "orthogonal to (-947, -2398, -18436) through (-1, 1, -1) separates\n",
      "[4, 5, 6, 7] and [0, 1, 2, 3]\n"
     ]
    }
   ],
   "source": [
    "vectors = [Vector(x,x*x,x**3) for x in [-4, -3, -2, -1, 4, 5, 6, 7]]\n",
    "print_vectors(vectors)\n",
    "if not general_pos(vectors):\n",
    "    print(\"Not in general position!\")\n",
    "partitions = find_partition(vectors,stop_at_first=False)\n",
    "print_partition(partitions[0])"
   ]
  },
  {
   "cell_type": "code",
   "execution_count": 7,
   "id": "ff0c3300-cda9-4f8e-a486-67123902d5d5",
   "metadata": {},
   "outputs": [
    {
     "name": "stdout",
     "output_type": "stream",
     "text": [
      "0: (-7, 49, -343)\n",
      "1: (-6, 36, -216)\n",
      "2: (-5, 25, -125)\n",
      "3: (-4, 16, -64)\n",
      "4: (1, 1, 1)\n",
      "5: (2, 4, 8)\n",
      "6: (3, 9, 27)\n",
      "7: (4, 16, 64)\n",
      "Plane defined by [1, 4, 6],\n",
      "orthogonal to (-21, 2, 1) through (-6, 36, -216) separates\n",
      "[0, 5, 1, 6] and [2, 3, 7, 4]\n",
      "Plane defined by [0, 2],\n",
      "orthogonal to (23, 229, 25) through (-7, 49, -343) separates\n",
      "[3, 4, 5, 0] and [1, 6, 7, 2]\n",
      "Plane defined by [3],\n",
      "orthogonal to (-179, 548, -4855) through (-4, 16, -64) separates\n",
      "[4, 5, 6, 7] and [0, 1, 2, 3]\n"
     ]
    }
   ],
   "source": [
    "vectors = [Vector(x,x*x,x**3) for x in [-7, -6, -5, -4, 1, 2, 3, 4]]\n",
    "print_vectors(vectors)\n",
    "if not general_pos(vectors):\n",
    "    print(\"Not in general position!\")\n",
    "partitions = find_partition(vectors,stop_at_first=False)\n",
    "print_partition(partitions[0])"
   ]
  },
  {
   "cell_type": "code",
   "execution_count": null,
   "id": "1acf32bf-3130-4f6c-a458-3787ee7efacc",
   "metadata": {},
   "outputs": [],
   "source": []
  }
 ],
 "metadata": {
  "kernelspec": {
   "display_name": "SageMath 9.5",
   "language": "sage",
   "name": "sagemath"
  },
  "language_info": {
   "codemirror_mode": {
    "name": "ipython",
    "version": 3
   },
   "file_extension": ".py",
   "mimetype": "text/x-python",
   "name": "python",
   "nbconvert_exporter": "python",
   "pygments_lexer": "ipython3",
   "version": "3.10.12"
  }
 },
 "nbformat": 4,
 "nbformat_minor": 5
}
