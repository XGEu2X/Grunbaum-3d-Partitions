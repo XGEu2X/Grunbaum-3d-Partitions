{
 "cells": [
  {
   "cell_type": "code",
   "execution_count": 4,
   "id": "e247f790-ce78-4a9c-9908-ff2fe920c96e",
   "metadata": {},
   "outputs": [],
   "source": [
    "import random\n",
    "import itertools as it\n",
    "from tqdm import tqdm\n",
    "\n",
    "class Vector:\n",
    "    def __init__(self, x, y, z):\n",
    "        self.x = x\n",
    "        self.y = y\n",
    "        self.z = z\n",
    "\n",
    "    def __add__(self, other):\n",
    "        if isinstance(other, Vector):\n",
    "            # Add the corresponding components of the two vectors\n",
    "            result_x = self.x + other.x\n",
    "            result_y = self.y + other.y\n",
    "            result_z = self.z + other.z\n",
    "            return Vector(result_x, result_y, result_z)\n",
    "        else:\n",
    "            raise ValueError(\"Can only add two Vector objects together\")\n",
    "\n",
    "    def __sub__(self, other):\n",
    "        if isinstance(other, Vector):\n",
    "            # Subtract the corresponding components of the two vectors\n",
    "            result_x = self.x - other.x\n",
    "            result_y = self.y - other.y\n",
    "            result_z = self.z - other.z\n",
    "            return Vector(result_x, result_y, result_z)\n",
    "        else:\n",
    "            raise ValueError(\"Can only subtract two Vector objects\")\n",
    "\n",
    "    def __mul__(self, scalar):\n",
    "        # Multiply the vector by a scalar\n",
    "        result_x = self.x * scalar\n",
    "        result_y = self.y * scalar\n",
    "        result_z = self.z * scalar\n",
    "        return Vector(result_x, result_y, result_z)\n",
    "\n",
    "    def cross(self, other):\n",
    "        # Compute the cross product of two vectors\n",
    "        result_x = self.y * other.z - self.z * other.y\n",
    "        result_y = self.z * other.x - self.x * other.z\n",
    "        result_z = self.x * other.y - self.y * other.x\n",
    "        return Vector(result_x, result_y, result_z)\n",
    "\n",
    "    def dot(self, other):\n",
    "        # Compute the dot product of two vectors\n",
    "        return self.x * other.x + self.y * other.y + self.z * other.z\n",
    "    \n",
    "    def norm2(self):\n",
    "        return self.x * self.x + self.y * self.y + self.z * self.z\n",
    "    \n",
    "    def norm(self):\n",
    "        return sqrt(self.norm2())\n",
    "    \n",
    "    def reduce(self):\n",
    "        d = gcd(gcd(self.x,self.y),self.z)\n",
    "        self.x,self.y,self.z = self.x/d,self.y/d,self.z/d\n",
    "\n",
    "    def __str__(self):\n",
    "        return f\"({self.x}, {self.y}, {self.z})\"\n",
    "\n",
    "def generate_random_vectors(num_points=8, min_coord=-10, max_coord=10):\n",
    "    \"\"\"\n",
    "    Generate a list of random 3D vectors.\n",
    "\n",
    "    Args:\n",
    "    num_points (int): Number of random vectors to generate (default is 8).\n",
    "    min_coord (int): Minimum coordinate value for each axis (default is -10).\n",
    "    max_coord (int): Maximum coordinate value for each axis (default is 10).\n",
    "\n",
    "    Returns:\n",
    "    list: A list of tuples representing random 3D points.\n",
    "    \"\"\"\n",
    "    points = []\n",
    "    for _ in range(num_points):\n",
    "        x = random.randint(min_coord, max_coord)\n",
    "        y = random.randint(min_coord, max_coord)\n",
    "        z = random.randint(min_coord, max_coord)\n",
    "        points.append(Vector(x, y, z))\n",
    "    return points\n",
    "\n",
    "def split_by_point_normal(point, normal, vectors):\n",
    "    \"\"\"\n",
    "    Partitions vectors by the plane normal to normal through point.\n",
    "    It should be at least sqrt(tol) away from the plane to be counted.\n",
    "    Returns two lists of indices.\n",
    "    \"\"\"\n",
    "    nn2 = normal.norm2()\n",
    "    assert nn2>0, f\"Norm 0\"\n",
    "    Positive = []\n",
    "    Zero = []\n",
    "    Negative = []\n",
    "    for i,v in enumerate(vectors):\n",
    "        ndv = normal.dot(v) - normal.dot(point)\n",
    "        if ndv*ndv == 0:\n",
    "            Zero.append(i)\n",
    "        elif ndv > 0:\n",
    "            Positive.append(i)\n",
    "        else:\n",
    "            Negative.append(i)\n",
    "    return Negative, Zero, Positive\n",
    "\n",
    "def make_choices(N,Z,P):\n",
    "    \"\"\"\n",
    "    Takes elments from Z and adds them to N and P so that they have the same size\n",
    "    \"\"\"\n",
    "    assert (len(P)+len(Z)+len(N))%2==0, \"Need an even number of total elements.\"\n",
    "    if len(N)+len(Z)<len(P) or len(P)+len(Z)<len(N): #Not possible to distribute evenly\n",
    "        return\n",
    "    num_negs = (len(P)+len(Z)-len(N))//2 #How many should be added to N\n",
    "    for new_negs in it.combinations(Z,num_negs):\n",
    "        newN=N.copy()\n",
    "        newP=P.copy()\n",
    "        for i in Z:\n",
    "            if i in new_negs:\n",
    "                newN.append(i)\n",
    "            else:\n",
    "                newP.append(i)\n",
    "        yield newN,newP\n",
    "        \n",
    "def print_vectors(vectors,as_list=False):\n",
    "    if as_list:\n",
    "        res='['\n",
    "        for v in vectors:\n",
    "            res += f'{v}, '\n",
    "        print(res[:-2]+']')\n",
    "    else:\n",
    "        for i,v in enumerate(vectors):\n",
    "            print(f'{i}: {v}')\n",
    "\n",
    "def print_partition(partition):\n",
    "    for N,P,x,n,Z in partition:\n",
    "        print(f'Plane defined by {Z},')\n",
    "        print(f'orthogonal to {n} through {x} separates')\n",
    "        print(f'{N} and {P}')\n",
    "\n",
    "def find_321_partition(vectors):\n",
    "    for a,b,c in it.combinations(vectors, 3):\n",
    "        normal1 = (b-a).cross(c-a)\n",
    "        normal1.reduce()\n",
    "        N1,Z1,P1 = split_by_point_normal(a,normal1,vectors)\n",
    "        #print(N1,P1)\n",
    "        assert len(Z1)==3, f\"Points not in general possition: {Z1}\"\n",
    "        for newN1,newP1 in make_choices(N1,Z1,P1):\n",
    "            #Aquí ya sé que newP1 y newN1 tienen el mismo tamaño\n",
    "            #print(' ',newN1,newP1)\n",
    "            for d,e in it.combinations(vectors, 2):\n",
    "                normal2 = normal1.cross(e-d)\n",
    "                normal2.reduce()\n",
    "                N2,Z2,P2 = split_by_point_normal(d,normal2, vectors)\n",
    "                #print('  ',N2,P2)\n",
    "                assert len(Z2)==2, f\"Points not in general possition: {Z1}, {Z2}\"\n",
    "                for newN2,newP2 in make_choices(N2,Z2,P2):\n",
    "                    #Aquí ya sé que newP2 y newN2 tienen el mismo tamaño\n",
    "                    #print('   ',newN2,newP2)\n",
    "                    #Hay que revisar si parten en 4 iguales\n",
    "                    cuadrant1 = {v for v in newN1 if v in newN2}\n",
    "                    if len(cuadrant1)!=len(vectors)//4:\n",
    "                        continue\n",
    "                    cuadrant2 = {v for v in newN1 if v not in newN2}\n",
    "                    cuadrant3 = {v for v in newP1 if v in newN2}\n",
    "                    normal3 = normal1.cross(normal2)\n",
    "                    normal3.reduce()\n",
    "                    for f in vectors:\n",
    "                        N3,Z3,P3 = split_by_point_normal(f,normal3, vectors)\n",
    "                        #print('    ',N3,P3)\n",
    "                        assert len(Z3)==1, f\"Points not in general possition: {Z1}, {Z2}, {Z3}\"\n",
    "                        for newN3,newP3 in make_choices(N3,Z3,P3):\n",
    "                            #print('     ',newN3,newP3)\n",
    "                            #Hay que revisar si parten en 8 iguales\n",
    "                            if len(cuadrant1.intersection(newN3))!=len(vectors)//8 or len(cuadrant2.intersection(newN3))!=len(vectors)//8 or len(cuadrant3.intersection(newN3))!=len(vectors)//8:\n",
    "                                continue\n",
    "                            #print(\"LO ENCONTRÉ!!\")\n",
    "                            return (newN1,newP1,a,normal1,Z1),(newN2,newP2,d,normal2,Z2),(newN3,newP3,f,normal3,Z3)\n",
    "    return ()\n",
    "\n",
    "def compute_normals(u1,u2,u3):\n",
    "    v11=u1.cross(Vector(1,0,0));v12=u1.cross(Vector(0,1,0));\n",
    "    v21=u2.cross(Vector(1,0,0));v22=u2.cross(Vector(0,1,0));\n",
    "    v31=u3.cross(Vector(1,0,0));v32=u3.cross(Vector(0,1,0));\n",
    "    #we want vi1*xi + vi2 to be orthogonal\n",
    "    # v11 v21 x1 x2 + v11 v22 x1 + v12 v21 x2 + v12 v22 == 0\n",
    "    # a3 x1 x2 + b3 x1 + c3 x2 + d3 == 0 && a1 x2 x3 + b1 x2 + c1 x3 + d1 == 0 && a2 x3 x1 + b2 x3 + c2 x1 + d2 == 0\n",
    "    a1 = v21.dot(v31); b1 = v21.dot(v32); c1 = v22.dot(v31); d1 = v22.dot(v32)\n",
    "    a2 = v31.dot(v11); b2 = v31.dot(v12); c2 = v32.dot(v11); d2 = v32.dot(v12)\n",
    "    a3 = v11.dot(v21); b3 = v11.dot(v22); c3 = v12.dot(v21); d3 = v12.dot(v22)\n",
    "    \n",
    "    disc = (b1*b2*b3 + c1*c2*c3 - a3*b2*d1 - a2*c3*d1 - a1*b3*d2 + a3*c1*d2 + a2*b1*d3 - a1*c2*d3)**2 - 4*(a2*b1*b3 - a1*b3*c2 + a3*c1*c2 - a2*a3*d1)*(-(b2*c3*d1) + c1*c3*d2 + b1*b2*d3 - a1*d2*d3)\n",
    "    if disc < 0:\n",
    "        return 0,0,0\n",
    "    root = sqrt(disc)\n",
    "    den1 = 2*(a2*b1*b3 - a1*b3*c2 + a3*c1*c2 - a2*a3*d1)\n",
    "    den2 = 2*(a3*b2*b1 - a2*b1*c3 + a1*c2*c3 - a3*a1*d2)\n",
    "    den3 = 2*(a1*b3*b2 - a3*b2*c1 + a2*c3*c1 - a1*a2*d3)\n",
    "    assert den1!=0 and den2!=0 and den3!=0, f\"Not in general position {den1,den2,den3}\"\n",
    "    \n",
    "    x1 = (-(b1*b2*b3) - c1*c2*c3 + a3*b2*d1 + a2*c3*d1 + a1*b3*d2 - a3*c1*d2 - a2*b1*d3 + a1*c2*d3 + root)/den1\n",
    "    x2 = (-(b1*b2*b3) - c1*c2*c3 - a3*b2*d1 + a2*c3*d1 + a1*b3*d2 + a3*c1*d2 + a2*b1*d3 - a1*c2*d3 + root)/den2\n",
    "    x3 = (-(b1*b2*b3) - c1*c2*c3 + a3*b2*d1 - a2*c3*d1 - a1*b3*d2 + a3*c1*d2 + a2*b1*d3 + a1*c2*d3 + root)/den3\n",
    "    #x2 = -(d3 + b3*x1)/(c3 + a3*x1)\n",
    "    #x3 = -(d2 + c2*x1)/(b2 + a2*x1+1)\n",
    "\n",
    "    return v11*x1 + v12, v21*x2 + v22, v31*x3 + v32\n",
    "\n",
    "def find_222_partition(vectors):\n",
    "    for (a1,b1),(a2,b2),(a3,b3) in it.combinations(it.combinations(vectors, 2),3):\n",
    "        normal1,normal2,normal3 = compute_normals(b1-a1,b2-a2,b3-a3)\n",
    "        if normal1 == 0:\n",
    "            #No partition exists\n",
    "            continue\n",
    "        normal1.reduce();normal2.reduce();normal3.reduce()\n",
    "        N1,Z1,P1 = split_by_point_normal(a1,normal1,vectors)\n",
    "        N2,Z2,P2 = split_by_point_normal(a2,normal2,vectors)\n",
    "        N3,Z3,P3 = split_by_point_normal(a3,normal3,vectors)\n",
    "        assert len(Z1)==2 and len(Z2)==2 and len(Z3)==2, f\"Points not in general possition: {Z1}, {Z2}, {Z3}\"\n",
    "        for newN1,newP1 in make_choices(N1,Z1,P1):\n",
    "            for newN2,newP2 in make_choices(N2,Z2,P2):\n",
    "                #Hay que revisar si parten en 4 iguales\n",
    "                cuadrant1 = {v for v in newN1 if v in newN2}\n",
    "                if len(cuadrant1)!=len(vectors)//4:\n",
    "                    continue\n",
    "                cuadrant2 = {v for v in newN1 if v not in newN2}\n",
    "                cuadrant3 = {v for v in newP1 if v in newN2}\n",
    "                for newN3,newP3 in make_choices(N3,Z3,P3):\n",
    "                    #Hay que revisar si parten en 8 iguales\n",
    "                    if len(cuadrant1.intersection(newN3))!=len(vectors)//8 or len(cuadrant2.intersection(newN3))!=len(vectors)//8 or len(cuadrant3.intersection(newN3))!=len(vectors)//8:\n",
    "                        continue\n",
    "                    #print(\"LO ENCONTRÉ!!\")\n",
    "                    return (newN1,newP1,a1,normal1,Z1),(newN2,newP2,a2,normal2,Z2),(newN3,newP3,a3,normal3,Z3)\n",
    "    #print(\"No encontré\")\n",
    "    return ()\n",
    "\n",
    "def find_partition(vectors):\n",
    "    partition = find_321_partition(vectors)\n",
    "    if len(partition)!=0:\n",
    "        return partition\n",
    "    partition = find_222_partition(vectors)\n",
    "    return partition\n",
    "\n",
    "def points_to_vectors(L):\n",
    "    return [Vector(x,y,z) for x,y,z in L]"
   ]
  },
  {
   "cell_type": "code",
   "execution_count": 5,
   "id": "8f0277dd-bc4c-47c9-8dce-378cae0ac66b",
   "metadata": {},
   "outputs": [
    {
     "data": {
      "text/plain": [
       "(([1, 2, 7, 0],\n",
       "  [3, 4, 6, 5],\n",
       "  <__main__.Vector object at 0x7f738b5b54e0>,\n",
       "  <__main__.Vector object at 0x7f7389b2a530>,\n",
       "  [0, 5]),\n",
       " ([1, 5, 7, 6],\n",
       "  [0, 3, 4, 2],\n",
       "  <__main__.Vector object at 0x7f738b5b55a0>,\n",
       "  <__main__.Vector object at 0x7f7389b2bbe0>,\n",
       "  [2, 6]),\n",
       " ([0, 3, 5, 7],\n",
       "  [1, 2, 6, 4],\n",
       "  <__main__.Vector object at 0x7f738b5b5390>,\n",
       "  <__main__.Vector object at 0x7f7389b2ba90>,\n",
       "  [4, 7]))"
      ]
     },
     "execution_count": 5,
     "metadata": {},
     "output_type": "execute_result"
    }
   ],
   "source": [
    "vectors = points_to_vectors([(-70, -21, -62), (52, -35, -59), (87, -88, -94), (-80, 1, 89), (-90, -29, 63), (41, 35, -16), (-45, 3, 84), (70, 27, -7)])\n",
    "find_partition(vectors)"
   ]
  },
  {
   "cell_type": "code",
   "execution_count": 2,
   "id": "52e97cb9-d3c3-47c3-897a-e1d72f2de25a",
   "metadata": {},
   "outputs": [
    {
     "name": "stderr",
     "output_type": "stream",
     "text": [
      " 24%|████████▊                           | 2435/10000 [01:38<2:45:52,  1.32s/it]"
     ]
    },
    {
     "name": "stdout",
     "output_type": "stream",
     "text": [
      "[(-96, 81, 78), (31, -14, -18), (-55, -56, 20), (-82, 84, 35), (-80, 28, 64), (-54, -50, 53), (-92, 83, 1), (57, -14, -73)]\n"
     ]
    },
    {
     "name": "stderr",
     "output_type": "stream",
     "text": [
      " 47%|█████████████████                   | 4749/10000 [03:22<2:06:19,  1.44s/it]"
     ]
    },
    {
     "name": "stdout",
     "output_type": "stream",
     "text": [
      "[(92, -51, -84), (-13, 84, 32), (42, 76, -45), (-65, 17, 3), (74, 73, -44), (-77, -17, -11), (82, -40, -94), (-20, 55, 56)]\n"
     ]
    },
    {
     "name": "stderr",
     "output_type": "stream",
     "text": [
      " 56%|███████████████████▉                | 5551/10000 [04:15<1:25:26,  1.15s/it]"
     ]
    },
    {
     "name": "stdout",
     "output_type": "stream",
     "text": [
      "[(71, 51, 66), (70, 36, -26), (-58, -55, -96), (-31, -41, -89), (44, 98, 79), (-97, -37, -5), (-63, -35, 6), (-28, 28, 52)]\n"
     ]
    },
    {
     "name": "stderr",
     "output_type": "stream",
     "text": [
      " 57%|████████████████████▍               | 5677/10000 [05:14<1:34:08,  1.31s/it]"
     ]
    },
    {
     "name": "stdout",
     "output_type": "stream",
     "text": [
      "[(-96, 87, 80), (-12, -67, -83), (-73, 26, 59), (-26, 2, -77), (46, -12, -51), (-29, 65, 32), (-13, 75, 22), (73, -8, -12)]\n"
     ]
    },
    {
     "name": "stderr",
     "output_type": "stream",
     "text": [
      " 81%|██████████████████████████████▊       | 8111/10000 [06:58<57:31,  1.83s/it]"
     ]
    },
    {
     "name": "stdout",
     "output_type": "stream",
     "text": [
      "[(75, -86, -2), (-68, 24, 69), (3, -76, -66), (-46, 18, 43), (-13, -12, -96), (-12, 51, -11), (6, 93, -29), (3, -61, -94)]\n"
     ]
    },
    {
     "name": "stderr",
     "output_type": "stream",
     "text": [
      " 87%|█████████████████████████████████     | 8712/10000 [08:03<29:37,  1.38s/it]"
     ]
    },
    {
     "name": "stdout",
     "output_type": "stream",
     "text": [
      "[(-66, -21, 22), (19, -64, 55), (13, 48, 25), (72, -7, -74), (31, -96, 85), (-52, -22, 74), (59, 76, -69), (97, 13, -99)]\n"
     ]
    },
    {
     "name": "stderr",
     "output_type": "stream",
     "text": [
      "100%|█████████████████████████████████████| 10000/10000 [08:23<00:00, 19.85it/s]"
     ]
    },
    {
     "name": "stdout",
     "output_type": "stream",
     "text": [
      "Examples searched in general position: 9976\n",
      "Counterexamples found: 6\n",
      "75/1247 %\n"
     ]
    },
    {
     "name": "stderr",
     "output_type": "stream",
     "text": [
      "\n"
     ]
    }
   ],
   "source": [
    "num_points=8\n",
    "N=10000\n",
    "\n",
    "totalexamples = 0\n",
    "counterexamples = 0\n",
    "for totaltries in tqdm(range(N)):\n",
    "    vectors = generate_random_vectors(num_points=num_points, min_coord=-100, max_coord=100)\n",
    "    try:\n",
    "        partition = find_partition(vectors)\n",
    "        totalexamples += 1\n",
    "        if len(partition)==0:\n",
    "            counterexamples += 1\n",
    "            print_vectors(vectors,as_list=True)\n",
    "    except Exception as error:\n",
    "        continue\n",
    "print(\"Examples searched in general position:\",totalexamples)\n",
    "print(\"Counterexamples found:\",counterexamples)\n",
    "print(100.*counterexamples/totalexamples,'%')"
   ]
  },
  {
   "cell_type": "code",
   "execution_count": 4,
   "id": "76ff4920-e6f5-4d80-8cbb-96e245bd9c94",
   "metadata": {},
   "outputs": [
    {
     "name": "stderr",
     "output_type": "stream",
     "text": [
      "100%|███████████████████████████████████| 10000/10000 [2:28:13<00:00,  1.12it/s]"
     ]
    },
    {
     "name": "stdout",
     "output_type": "stream",
     "text": [
      "Examples searched in general position: 9874\n",
      "Counterexamples found: 0\n",
      "0 %\n"
     ]
    },
    {
     "name": "stderr",
     "output_type": "stream",
     "text": [
      "\n"
     ]
    }
   ],
   "source": [
    "num_points=16\n",
    "N=10000\n",
    "\n",
    "totalexamples = 0\n",
    "counterexamples = 0\n",
    "for totaltries in tqdm(range(N)):\n",
    "    vectors = generate_random_vectors(num_points=num_points, min_coord=-100, max_coord=100)\n",
    "    try:\n",
    "        partition = find_partition(vectors)\n",
    "        totalexamples += 1\n",
    "        if len(partition)==0:\n",
    "            counterexamples += 1\n",
    "            print_vectors(vectors,as_list=True)\n",
    "    except Exception as error:\n",
    "        continue\n",
    "print(\"Examples searched in general position:\",totalexamples)\n",
    "print(\"Counterexamples found:\",counterexamples)\n",
    "print(100.*counterexamples/totalexamples,'%')"
   ]
  },
  {
   "cell_type": "code",
   "execution_count": 5,
   "id": "0f2b4ea6-b911-45bd-9456-a7d562bea9ec",
   "metadata": {},
   "outputs": [
    {
     "data": {
      "text/plain": [
       "()"
      ]
     },
     "execution_count": 5,
     "metadata": {},
     "output_type": "execute_result"
    }
   ],
   "source": [
    "lista = [Vector(x,x*x,x**3) for x in range(8)]\n",
    "find_partition(lista)"
   ]
  },
  {
   "cell_type": "code",
   "execution_count": 6,
   "id": "57bb618d-ad6a-4eb2-a460-2a315f4e1fef",
   "metadata": {},
   "outputs": [
    {
     "data": {
      "text/plain": [
       "()"
      ]
     },
     "execution_count": 6,
     "metadata": {},
     "output_type": "execute_result"
    }
   ],
   "source": [
    "lista = [Vector(x,x*x,x**3) for x in range(-7,8,2)]\n",
    "find_partition(lista)"
   ]
  },
  {
   "cell_type": "code",
   "execution_count": 7,
   "id": "4a43f3c7-21d2-42ff-b395-6d15e18b1e2f",
   "metadata": {},
   "outputs": [
    {
     "name": "stdout",
     "output_type": "stream",
     "text": [
      "(-4, 16, -64)\n",
      "(-2, 4, -8)\n",
      "(-1, 1, -1)\n",
      "(0, 0, 0)\n",
      "(1, 1, 1)\n",
      "(2, 4, 8)\n",
      "(3, 9, 27)\n",
      "(4, 16, 64)\n",
      "Plane defined by [0, 2, 5],\n",
      "orthogonal to (-6, 3, 1) through (-4, 16, -64) separates\n",
      "[3, 4, 0, 5] and [1, 6, 7, 2]\n",
      "Plane defined by [4, 6],\n",
      "orthogonal to (35, 79, -27) through (1, 1, 1) separates\n",
      "[2, 3, 7, 4] and [0, 1, 5, 6]\n",
      "Plane defined by [3],\n",
      "orthogonal to (-160, -127, -579) through (0, 0, 0) separates\n",
      "[4, 5, 6, 7] and [0, 1, 2, 3]\n"
     ]
    }
   ],
   "source": [
    "lista = [Vector(x,x*x,x**3) for x in [-4,-2,-1,0,1,2,3,4]]\n",
    "p = find_partition(lista)\n",
    "[print(v) for v in lista]\n",
    "print_partition(p)"
   ]
  },
  {
   "cell_type": "code",
   "execution_count": 6,
   "id": "598df003-3be3-4175-9e32-8f5f2cdb7b6d",
   "metadata": {},
   "outputs": [
    {
     "name": "stderr",
     "output_type": "stream",
     "text": [
      "  8%|███                                  | 822/10000 [00:56<2:42:52,  1.06s/it]"
     ]
    },
    {
     "name": "stdout",
     "output_type": "stream",
     "text": [
      "[(22, 87, 25), (29, 62, 67), (27, 78, 21), (69, 29, 54), (6, 78, 26), (63, 39, 50), (1, 54, 48), (50, 31, 72)]\n"
     ]
    },
    {
     "name": "stderr",
     "output_type": "stream",
     "text": [
      " 24%|████████▍                           | 2355/10000 [02:17<4:04:29,  1.92s/it]"
     ]
    },
    {
     "name": "stdout",
     "output_type": "stream",
     "text": [
      "[(16, 59, 50), (48, 3, 88), (10, 81, 68), (50, 82, 98), (67, 5, 63), (80, 9, 20), (65, 11, 2), (40, 59, 76)]\n"
     ]
    },
    {
     "name": "stderr",
     "output_type": "stream",
     "text": [
      " 27%|█████████▋                          | 2679/10000 [03:03<3:48:36,  1.87s/it]"
     ]
    },
    {
     "name": "stdout",
     "output_type": "stream",
     "text": [
      "[(55, 80, 87), (92, 94, 84), (7, 36, 96), (13, 81, 88), (86, 75, 58), (57, 46, 79), (96, 84, 73), (84, 72, 71)]\n"
     ]
    },
    {
     "name": "stderr",
     "output_type": "stream",
     "text": [
      " 51%|██████████████████▎                 | 5076/10000 [04:24<1:15:39,  1.08it/s]"
     ]
    },
    {
     "name": "stdout",
     "output_type": "stream",
     "text": [
      "[(35, 93, 93), (93, 60, 10), (74, 34, 54), (38, 82, 74), (72, 23, 66), (28, 86, 90), (56, 8, 89), (37, 76, 68)]\n"
     ]
    },
    {
     "name": "stderr",
     "output_type": "stream",
     "text": [
      " 82%|███████████████████████████████▎      | 8248/10000 [06:59<33:20,  1.14s/it]"
     ]
    },
    {
     "name": "stdout",
     "output_type": "stream",
     "text": [
      "[(51, 55, 88), (79, 83, 8), (66, 6, 74), (61, 93, 25), (58, 29, 87), (90, 72, 20), (28, 94, 91), (55, 86, 28)]\n"
     ]
    },
    {
     "name": "stderr",
     "output_type": "stream",
     "text": [
      "100%|█████████████████████████████████████| 10000/10000 [07:29<00:00, 22.23it/s]"
     ]
    },
    {
     "name": "stdout",
     "output_type": "stream",
     "text": [
      "Examples searched in general position: 9892\n",
      "Counterexamples found: 5\n",
      "125/2473 %\n"
     ]
    },
    {
     "name": "stderr",
     "output_type": "stream",
     "text": [
      "\n"
     ]
    }
   ],
   "source": [
    "num_points=8\n",
    "N=10000\n",
    "\n",
    "totalexamples = 0\n",
    "counterexamples = 0\n",
    "for totaltries in tqdm(range(N)):\n",
    "    vectors = generate_random_vectors(num_points=num_points, min_coord=0, max_coord=99)\n",
    "    try:\n",
    "        partition = find_partition(vectors)\n",
    "        totalexamples += 1\n",
    "        if len(partition)==0:\n",
    "            counterexamples += 1\n",
    "            print_vectors(vectors,as_list=True)\n",
    "    except Exception as error:\n",
    "        continue\n",
    "print(\"Examples searched in general position:\",totalexamples)\n",
    "print(\"Counterexamples found:\",counterexamples)\n",
    "print(100.*counterexamples/totalexamples,'%')"
   ]
  },
  {
   "cell_type": "code",
   "execution_count": null,
   "id": "f96524aa-6c53-49f9-8283-4dfb9ecc5c93",
   "metadata": {},
   "outputs": [],
   "source": [
    "vectors = points_to_vectors()\n",
    "find_partition(vectors)"
   ]
  }
 ],
 "metadata": {
  "kernelspec": {
   "display_name": "SageMath 9.5",
   "language": "sage",
   "name": "sagemath"
  },
  "language_info": {
   "codemirror_mode": {
    "name": "ipython",
    "version": 3
   },
   "file_extension": ".py",
   "mimetype": "text/x-python",
   "name": "python",
   "nbconvert_exporter": "python",
   "pygments_lexer": "ipython3",
   "version": "3.10.12"
  }
 },
 "nbformat": 4,
 "nbformat_minor": 5
}
